{
 "cells": [
  {
   "cell_type": "markdown",
   "metadata": {},
   "source": [
    "# Title of your Analysis\n",
    "## Table of contents\n",
    "* [Metadata](#meta)  \n",
    "    * [Authorship](#author)  \n",
    "    * [License](#lic)  \n",
    "* [Setup](#set)  \n",
    "    * [Software Setup](#softset)  \n",
    "    * [Data Setup](#datset)  \n",
    "* [Data Enabling](#datenab)  \n",
    "* [Descriptive Analysis](#desc)  \n",
    "* [Multivariate Analysis](#multi)  \n",
    "* [Reporting](#report)  \n",
    "\n",
    "__Abstract:__"
   ]
  },
  {
   "cell_type": "markdown",
   "metadata": {},
   "source": [
    "## Metadata<a id=\"meta\"></a>\n",
    "### Authorship<a id=\"author\"></a>\n",
    "### License<a id=\"lic\"></a>"
   ]
  },
  {
   "cell_type": "markdown",
   "metadata": {},
   "source": [
    "## Setup<a id=\"set\"></a>\n",
    "### Software Setup<a id=\"softset\"></a>\n",
    "### Data Setup<a id=\"datset\"></a>"
   ]
  },
  {
   "cell_type": "markdown",
   "metadata": {},
   "source": [
    "## Data Enabling<a id=\"datenab\"></a>"
   ]
  },
  {
   "cell_type": "markdown",
   "metadata": {},
   "source": [
    "## Descriptive Analysis<a id=\"desc\"></a>"
   ]
  },
  {
   "cell_type": "markdown",
   "metadata": {},
   "source": [
    "## Multivariate Analysis<a id=\"multi\"></a>"
   ]
  },
  {
   "cell_type": "markdown",
   "metadata": {},
   "source": [
    "## Reporting<a id=\"report\"></a>"
   ]
  }
 ],
 "metadata": {
  "anaconda-cloud": {},
  "kernelspec": {
   "display_name": "Python 3",
   "language": "python",
   "name": "python3"
  },
  "language_info": {
   "codemirror_mode": {
    "name": "ipython",
    "version": 3
   },
   "file_extension": ".py",
   "mimetype": "text/x-python",
   "name": "python",
   "nbconvert_exporter": "python",
   "pygments_lexer": "ipython3",
   "version": "3.5.2"
  }
 },
 "nbformat": 4,
 "nbformat_minor": 1
}
